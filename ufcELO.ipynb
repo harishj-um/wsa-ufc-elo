{
 "cells": [
  {
   "cell_type": "code",
   "execution_count": 2,
   "metadata": {},
   "outputs": [],
   "source": [
    "import pandas as pd\n",
    "from datetime import datetime"
   ]
  },
  {
   "cell_type": "code",
   "execution_count": 3,
   "metadata": {},
   "outputs": [],
   "source": [
    "def get_new_weight_class_for_fighter(fighter_id, ufcFights):\n",
    "    fighter_fights = ufcFights[(ufcFights['fighter1_id'] == fighter_id) | (ufcFights['fighter2_id'] == fighter_id)]\n",
    "    \n",
    "    fighter_fights = fighter_fights[fighter_fights['weightclass'] != 'Open Weight']\n",
    "    \n",
    "    if not fighter_fights.empty:\n",
    "        # Find the weight class of the first fight in a normal weight class\n",
    "        first_normal_weight_fight = fighter_fights.iloc[0]\n",
    "        return first_normal_weight_fight['weightclass']\n",
    "    \n",
    "    # If no non-\"Open Weight\" fight is found, return \"Unknown\"\n",
    "    return 'Unknown'"
   ]
  },
  {
   "cell_type": "code",
   "execution_count": 4,
   "metadata": {},
   "outputs": [],
   "source": [
    "def calculateKValue(totalFights, title_fight, won):\n",
    "    k = max(80 - 2 * totalFights, 40) * 1.0\n",
    "    if title_fight == \"Yes\" and won == 1:\n",
    "        k *= 1.5\n",
    "    return k"
   ]
  },
  {
   "cell_type": "code",
   "execution_count": 5,
   "metadata": {},
   "outputs": [],
   "source": [
    "def expectedValue(fighter1Rating, fighter2Rating):\n",
    "    expected = 1 / (1 + pow(10, ((fighter2Rating - fighter1Rating) /400)))\n",
    "    return expected"
   ]
  },
  {
   "cell_type": "code",
   "execution_count": 6,
   "metadata": {},
   "outputs": [],
   "source": [
    "def updateElo(fighterTable, fightTable, current_fight_id, fighter1_id, fighter2_id, title_fight, method, outcome):\n",
    "    fighter1Rating = fighterTable.loc[fighterTable['fighter_id'] == fighter1_id, 'currentElo'].values[0]\n",
    "    fighter2Rating = fighterTable.loc[fighterTable['fighter_id'] == fighter2_id, 'currentElo'].values[0]\n",
    "    fighter1MaxRating = fighterTable.loc[fighterTable['fighter_id'] == fighter1_id, 'maxElo'].values[0]\n",
    "    fighter2MaxRating = fighterTable.loc[fighterTable['fighter_id'] == fighter2_id, 'maxElo'].values[0]\n",
    "\n",
    "    fightsUntilDate = fightTable[fightTable['fight_id'] < current_fight_id]\n",
    "\n",
    "    fighter1FightsNum = len(fightsUntilDate[(fightsUntilDate['fighter1_id'] == fighter1_id) |(fightsUntilDate['fighter2_id'] == fighter1_id)])\n",
    "    fighter2FightsNum = len(fightsUntilDate[(fightsUntilDate['fighter1_id'] == fighter2_id) |(fightsUntilDate['fighter2_id'] == fighter2_id)])\n",
    "\n",
    "    won = 1\n",
    "    lost = 0\n",
    "    if outcome !=  \"win\":\n",
    "        won = 0\n",
    "\n",
    "    fighter1K = calculateKValue(fighter1FightsNum, title_fight, won)\n",
    "    fighter2K = calculateKValue(fighter2FightsNum, title_fight, lost)\n",
    "\n",
    "    eventA = 1.0\n",
    "    eventB = 0.0\n",
    "    if outcome == \"draw\" or outcome == \"nc\":\n",
    "        eventA = 0.5\n",
    "        eventB = 0.5\n",
    "    \n",
    "    fighter1Expected = expectedValue(fighter1Rating, fighter2Rating)\n",
    "    fighter2Expected = expectedValue(fighter2Rating, fighter1Rating)\n",
    "\n",
    "    newFighter1Elo = fighter1Rating + fighter1K * (eventA - fighter1Expected)\n",
    "    newFighter2Elo = fighter2Rating + fighter2K * (eventB - fighter2Expected)\n",
    "    if method == \"KO/TKO\":\n",
    "        newFighter1Elo += 10\n",
    "        newFighter2Elo -= 10\n",
    "    elif method == \"SUB\":\n",
    "        newFighter1Elo += 8\n",
    "        newFighter2Elo -= 8\n",
    "\n",
    "    fighterTable.loc[fighterTable['fighter_id'] == fighter1_id, 'currentElo'] = newFighter1Elo\n",
    "    fighterTable.loc[fighterTable['fighter_id'] == fighter2_id, 'currentElo'] = newFighter2Elo\n",
    "\n",
    "    if newFighter1Elo > fighter1MaxRating:\n",
    "        fighterTable.loc[fighterTable['fighter_id'] == fighter1_id, 'maxElo'] = newFighter1Elo\n",
    "    if newFighter2Elo > fighter2MaxRating:\n",
    "        fighterTable.loc[fighterTable['fighter_id'] == fighter2_id, 'maxElo'] = newFighter2Elo\n",
    "    \n",
    "\n",
    "    return fighterTable"
   ]
  },
  {
   "cell_type": "markdown",
   "metadata": {},
   "source": [
    "Redundant Now (Creates a new Elo and removed fighters)\n"
   ]
  },
  {
   "cell_type": "code",
   "execution_count": 7,
   "metadata": {},
   "outputs": [
    {
     "data": {
      "text/plain": [
       "'\\nufcFights = pd.read_csv(\"ufcFights.csv\")\\nufcEvents = pd.read_csv(\"ufcEvent.csv\")\\nufcFighters = pd.read_csv(\"ufcFighters.csv\")\\n\\nufcFights = ufcFights[ufcFights[\"event_id\"] >= 32]\\nufcFighters = ufcFighters.drop(columns= [\"currentElo\", \"highestElo\"])\\nufcFighters[\"currentElo\"] = 1500\\nufcFighters[\"maxElo\"] = 1500\\n\\n\\n\\nfor index, fight in ufcFights.iterrows():\\n    # Extract necessary details from the current fight row\\n    current_fight_id = fight[\\'fight_id\\']\\n    fighter1_id = fight[\\'fighter1_id\\']\\n    fighter2_id = fight[\\'fighter2_id\\']\\n    title_fight = fight[\\'title_fight\\']  # Assuming there\\'s a column \\'title_fight\\' indicating if it\\'s a title fight\\n    method = fight[\\'method\\']  # The method of victory, e.g., KO/TKO, SUB\\n    outcome = fight[\\'outcome\\']  # Outcome of the fight: \"win\", \"loss\", \"draw\"\\n    \\n    # Call updateElo for this fight to update the Elo ratings\\n    ufcFighters = updateElo(ufcFighters, ufcFights, current_fight_id, fighter1_id, fighter2_id, title_fight, method, outcome)\\n\\n# Check the updated fighter table\\n#ufcFighters.tail()\"\\nfighters_to_keep = []\\n\\nfor index, fighter in ufcFighters.iterrows():\\n    fighter_id = fighter[\\'fighter_id\\']\\n    weightclass = fighter[\\'weightclass\\']\\n    currentElo = fighter[\\'currentElo\\']\\n\\n    if weightclass == \\'Open Weight\\' and currentElo == 1500:\\n        fights_after_threshold = ufcFights[ufcFights[\\'fighter1_id\\'] == fighter_id]\\n        fights_after_threshold = fights_after_threshold[ fights_after_threshold[\\'event_id\\'] >= 32]\\n        if len(fights_after_threshold) == 0:\\n                continue \\n        new_weight_class = get_new_weight_class_for_fighter(fighter_id, ufcFights)  # Implement this function as needed\\n        fighter[\\'weightclass\\'] = new_weight_class\\n    \\n    fighters_to_keep.append(fighter)\\n\\nupdated_fighters = pd.DataFrame(fighters_to_keep)\\nupdated_fighters.to_csv(\"ufcFightersNew.csv\", index=False)\\n'"
      ]
     },
     "execution_count": 7,
     "metadata": {},
     "output_type": "execute_result"
    }
   ],
   "source": [
    "\"\"\"\n",
    "ufcFights = pd.read_csv(\"ufcFights.csv\")\n",
    "ufcEvents = pd.read_csv(\"ufcEvent.csv\")\n",
    "ufcFighters = pd.read_csv(\"ufcFighters.csv\")\n",
    "\n",
    "ufcFights = ufcFights[ufcFights[\"event_id\"] >= 32]\n",
    "ufcFighters = ufcFighters.drop(columns= [\"currentElo\", \"highestElo\"])\n",
    "ufcFighters[\"currentElo\"] = 1500\n",
    "ufcFighters[\"maxElo\"] = 1500\n",
    "\n",
    "\n",
    "\n",
    "for index, fight in ufcFights.iterrows():\n",
    "    # Extract necessary details from the current fight row\n",
    "    current_fight_id = fight['fight_id']\n",
    "    fighter1_id = fight['fighter1_id']\n",
    "    fighter2_id = fight['fighter2_id']\n",
    "    title_fight = fight['title_fight']  # Assuming there's a column 'title_fight' indicating if it's a title fight\n",
    "    method = fight['method']  # The method of victory, e.g., KO/TKO, SUB\n",
    "    outcome = fight['outcome']  # Outcome of the fight: \"win\", \"loss\", \"draw\"\n",
    "    \n",
    "    # Call updateElo for this fight to update the Elo ratings\n",
    "    ufcFighters = updateElo(ufcFighters, ufcFights, current_fight_id, fighter1_id, fighter2_id, title_fight, method, outcome)\n",
    "\n",
    "# Check the updated fighter table\n",
    "#ufcFighters.tail()\"\n",
    "fighters_to_keep = []\n",
    "\n",
    "for index, fighter in ufcFighters.iterrows():\n",
    "    fighter_id = fighter['fighter_id']\n",
    "    weightclass = fighter['weightclass']\n",
    "    currentElo = fighter['currentElo']\n",
    "\n",
    "    if weightclass == 'Open Weight' and currentElo == 1500:\n",
    "        fights_after_threshold = ufcFights[ufcFights['fighter1_id'] == fighter_id]\n",
    "        fights_after_threshold = fights_after_threshold[ fights_after_threshold['event_id'] >= 32]\n",
    "        if len(fights_after_threshold) == 0:\n",
    "                continue \n",
    "        new_weight_class = get_new_weight_class_for_fighter(fighter_id, ufcFights)  # Implement this function as needed\n",
    "        fighter['weightclass'] = new_weight_class\n",
    "    \n",
    "    fighters_to_keep.append(fighter)\n",
    "\n",
    "updated_fighters = pd.DataFrame(fighters_to_keep)\n",
    "updated_fighters.to_csv(\"ufcFightersNew.csv\", index=False)\n",
    "\"\"\"\n"
   ]
  },
  {
   "cell_type": "code",
   "execution_count": 8,
   "metadata": {},
   "outputs": [],
   "source": [
    "def getLastFightDate(fighter_id, ufcFights):\n",
    "    fighterFights = ufcFights[(ufcFights['fighter1_id'] == fighter_id) | (ufcFights['fighter2_id'] == fighter_id)]\n",
    "    \n",
    "    # Get the most recent fight date\n",
    "    latest_fight_date = fighterFights['date'].max()\n",
    "    \n",
    "    return latest_fight_date"
   ]
  },
  {
   "cell_type": "code",
   "execution_count": 9,
   "metadata": {},
   "outputs": [],
   "source": [
    "def removeInactiveFighters(ufcFighters, ufcFights, years):\n",
    "    currentDate = datetime.now()\n",
    "\n",
    "    activeFighters = []\n",
    "\n",
    "    for index, fighter in ufcFighters.iterrows():\n",
    "        fighter_id = fighter['fighter_id']\n",
    "\n",
    "        lastFightDate = getLastFightDate(fighter_id, ufcFights)\n",
    "\n",
    "        if lastFightDate is not pd.NaT:\n",
    "            if (currentDate - lastFightDate).days <= years * 365:\n",
    "                activeFighters.append(fighter)\n",
    "        \n",
    "    activeFightersDf = pd.DataFrame(activeFighters)\n",
    "    activeFightersDf.to_csv(\"ufcActiveFighters.csv\")\n",
    "    "
   ]
  },
  {
   "cell_type": "markdown",
   "metadata": {},
   "source": [
    "Irrelevant Now, want to dynamically add events and keep updaying the active list later"
   ]
  },
  {
   "cell_type": "code",
   "execution_count": 10,
   "metadata": {},
   "outputs": [
    {
     "data": {
      "text/plain": [
       "'\\nufcFights = pd.read_csv(\"ufcFights.csv\")\\nufcEvents = pd.read_csv(\"ufcEvent.csv\")\\nufcFighters = pd.read_csv(\"ufcFightersNew.csv\")\\nufcEvents[\\'date\\'] = pd.to_datetime(ufcEvents[\\'date\\'])\\n\\nufcFights = pd.merge(ufcFights, ufcEvents[[\\'event_id\\', \\'date\\']], on=\\'event_id\\')\\nactiveFightersDf = removeInactiveFighters(ufcFighters, ufcFights, 2)\\n\\n\\n'"
      ]
     },
     "execution_count": 10,
     "metadata": {},
     "output_type": "execute_result"
    }
   ],
   "source": [
    "\"\"\"\n",
    "ufcFights = pd.read_csv(\"ufcFights.csv\")\n",
    "ufcEvents = pd.read_csv(\"ufcEvent.csv\")\n",
    "ufcFighters = pd.read_csv(\"ufcFightersNew.csv\")\n",
    "ufcEvents['date'] = pd.to_datetime(ufcEvents['date'])\n",
    "\n",
    "ufcFights = pd.merge(ufcFights, ufcEvents[['event_id', 'date']], on='event_id')\n",
    "activeFightersDf = removeInactiveFighters(ufcFighters, ufcFights, 2)\n",
    "\n",
    "\n",
    "\"\"\""
   ]
  },
  {
   "cell_type": "code",
   "execution_count": 15,
   "metadata": {},
   "outputs": [
    {
     "name": "stdout",
     "output_type": "stream",
     "text": [
      "     fighter_id                   name           weightclass   currentElo  \\\n",
      "5           596              Jon Jones     Light Heavyweight  2098.418582   \n",
      "97         1438        Islam Makhachev           Lightweight  2061.930822   \n",
      "350        2100      Dricus Du Plessis          Middleweight  1950.929287   \n",
      "22          881           Stipe Miocic           Heavyweight  1942.726219   \n",
      "101        1455           Kamaru Usman          Welterweight  1932.827040   \n",
      "351        2102           Ilia Topuria         Featherweight  1928.945782   \n",
      "46         1117           Amanda Nunes  Women's Bantamweight  1928.579757   \n",
      "26          929           Max Holloway         Featherweight  1926.715804   \n",
      "137        1612  Alexander Volkanovski           Lightweight  1926.253093   \n",
      "425        2215           Alex Pereira          Middleweight  1914.230487   \n",
      "76         1357           Leon Edwards          Welterweight  1908.076953   \n",
      "196        1773       Magomed Ankalaev     Light Heavyweight  1906.789086   \n",
      "211        1815            Zhang Weili   Women's Strawweight  1886.909365   \n",
      "180        1746      Merab Dvalishvili          Bantamweight  1882.751870   \n",
      "58         1206      Aljamain Sterling          Bantamweight  1879.394948   \n",
      "118        1552         Belal Muhammad          Welterweight  1874.819222   \n",
      "11          750       Charles Oliveira           Lightweight  1873.667972   \n",
      "265        1951             Ciryl Gane           Heavyweight  1872.171751   \n",
      "328        2053        Khamzat Chimaev          Middleweight  1869.095748   \n",
      "109        1508   Valentina Shevchenko  Women's Bantamweight  1866.253320   \n",
      "335        2062           Tom Aspinall           Heavyweight  1863.863679   \n",
      "358        2112      Shavkat Rakhmonov          Welterweight  1845.221390   \n",
      "15          792         Dustin Poirier         Featherweight  1841.537678   \n",
      "189        1760        Israel Adesanya          Middleweight  1840.836297   \n",
      "147        1634      Alexandre Pantoja             Flyweight  1835.095101   \n",
      "32         1017       Robert Whittaker          Welterweight  1833.727097   \n",
      "349        2098     Nassourdine Imavov          Middleweight  1822.639633   \n",
      "156        1657    Deiveson Figueiredo             Flyweight  1822.134435   \n",
      "246        1906          Movsar Evloev         Featherweight  1820.877790   \n",
      "89         1399           Henry Cejudo          Bantamweight  1816.888583   \n",
      "290        1990             Sean Brady          Welterweight  1813.000184   \n",
      "176        1730          Sean O'Malley          Bantamweight  1811.312101   \n",
      "160        1669         Justin Gaethje           Lightweight  1811.195939   \n",
      "245        1904        Arman Tsarukyan           Lightweight  1808.392179   \n",
      "436        2228   Jack Della Maddalena          Welterweight  1802.970646   \n",
      "72         1328        Colby Covington          Welterweight  1796.875029   \n",
      "243        1892           Grant Dawson         Featherweight  1795.278696   \n",
      "201        1789               Petr Yan          Bantamweight  1790.871542   \n",
      "186        1755         Cory Sandhagen         Featherweight  1790.776979   \n",
      "102        1458          Vicente Luque          Welterweight  1790.488453   \n",
      "135        1603       Alexander Volkov           Heavyweight  1789.798179   \n",
      "100        1447           Arnold Allen         Featherweight  1786.419475   \n",
      "442        2235        Jailton Almeida     Light Heavyweight  1782.427925   \n",
      "77         1365         Yair Rodriguez         Featherweight  1782.208928   \n",
      "20          832              Jose Aldo         Featherweight  1782.205274   \n",
      "340        2069        Joaquin Buckley          Middleweight  1780.218842   \n",
      "113        1532         Curtis Blaydes           Heavyweight  1779.918828   \n",
      "130        1595         Brandon Moreno             Flyweight  1779.784108   \n",
      "175        1724            Song Yadong         Featherweight  1779.677902   \n",
      "74         1347         Jan Blachowicz     Light Heavyweight  1776.876429   \n",
      "\n",
      "          maxElo  \n",
      "5    2098.418582  \n",
      "97   2061.930822  \n",
      "350  1950.929287  \n",
      "22   2010.385252  \n",
      "101  2045.826450  \n",
      "351  1928.945782  \n",
      "46   1946.708834  \n",
      "26   1962.753042  \n",
      "137  2015.439051  \n",
      "425  1952.220359  \n",
      "76   1981.695632  \n",
      "196  1906.789086  \n",
      "211  1886.909365  \n",
      "180  1882.751870  \n",
      "58   1942.193776  \n",
      "118  1874.819222  \n",
      "11   1897.730501  \n",
      "265  1872.171751  \n",
      "328  1869.095748  \n",
      "109  1899.050826  \n",
      "335  1863.863679  \n",
      "358  1845.221390  \n",
      "15   1890.498852  \n",
      "189  1979.506079  \n",
      "147  1835.095101  \n",
      "32   1878.418226  \n",
      "349  1822.639633  \n",
      "156  1854.029125  \n",
      "246  1820.877790  \n",
      "89   1914.883493  \n",
      "290  1813.000184  \n",
      "176  1842.081818  \n",
      "160  1823.012697  \n",
      "245  1808.392179  \n",
      "436  1802.970646  \n",
      "72   1855.632677  \n",
      "243  1795.278696  \n",
      "201  1825.892640  \n",
      "186  1826.838895  \n",
      "102  1861.875310  \n",
      "135  1811.413203  \n",
      "100  1815.944260  \n",
      "442  1782.427925  \n",
      "77   1851.112374  \n",
      "20   1910.987701  \n",
      "340  1780.218842  \n",
      "113  1821.743016  \n",
      "130  1831.840592  \n",
      "175  1779.677902  \n",
      "74   1833.334643  \n"
     ]
    }
   ],
   "source": [
    "fighters = pd.read_csv(\"ufcActiveFighters.csv\")\n",
    "top_50_elo = fighters.sort_values(by='currentElo', ascending=False).head(50)\n",
    "\n",
    "# Display the top 10 fighters with the highest Elo\n",
    "print(top_50_elo[['fighter_id', 'name', 'weightclass', 'currentElo', 'maxElo']])"
   ]
  },
  {
   "cell_type": "code",
   "execution_count": null,
   "metadata": {},
   "outputs": [],
   "source": []
  }
 ],
 "metadata": {
  "kernelspec": {
   "display_name": "PedroWSA",
   "language": "python",
   "name": "python3"
  },
  "language_info": {
   "codemirror_mode": {
    "name": "ipython",
    "version": 3
   },
   "file_extension": ".py",
   "mimetype": "text/x-python",
   "name": "python",
   "nbconvert_exporter": "python",
   "pygments_lexer": "ipython3",
   "version": "3.9.18"
  }
 },
 "nbformat": 4,
 "nbformat_minor": 2
}
